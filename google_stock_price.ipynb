{
  "cells": [
    {
      "cell_type": "code",
      "execution_count": null,
      "metadata": {
        "id": "CrdGGktVKqm0"
      },
      "outputs": [],
      "source": [
        "import pandas as pd\n",
        "import keras\n",
        "from sklearn.preprocessing import MinMaxScaler\n",
        "import tensorflow as tf\n",
        "import numpy as np"
      ]
    },
    {
      "cell_type": "code",
      "execution_count": null,
      "metadata": {
        "id": "626dcNU4K9c9"
      },
      "outputs": [],
      "source": [
        "df_train=pd.read_csv(\"Google_Stock_Price_Train.csv\")\n",
        "df_test=pd.read_csv(\"Google_Stock_Price_Test.csv\")"
      ]
    },
    {
      "cell_type": "code",
      "execution_count": null,
      "metadata": {
        "colab": {
          "base_uri": "https://localhost:8080/",
          "height": 206
        },
        "id": "bu6ecAWgLPRo",
        "outputId": "24ede2e2-650b-4c26-bff0-db3af0e844ca"
      },
      "outputs": [
        {
          "output_type": "execute_result",
          "data": {
            "text/plain": [
              "       Date    Open    High     Low   Close      Volume\n",
              "0  1/3/2012  325.25  332.83  324.97  663.59   7,380,500\n",
              "1  1/4/2012  331.27  333.87  329.08  666.45   5,749,400\n",
              "2  1/5/2012  329.83  330.75  326.89  657.21   6,590,300\n",
              "3  1/6/2012  328.34  328.77  323.68  648.24   5,405,900\n",
              "4  1/9/2012  322.04  322.29  309.46  620.76  11,688,800"
            ],
            "text/html": [
              "\n",
              "  <div id=\"df-8956fe8b-ed1b-4642-bf9e-08c0c2b1b3ae\">\n",
              "    <div class=\"colab-df-container\">\n",
              "      <div>\n",
              "<style scoped>\n",
              "    .dataframe tbody tr th:only-of-type {\n",
              "        vertical-align: middle;\n",
              "    }\n",
              "\n",
              "    .dataframe tbody tr th {\n",
              "        vertical-align: top;\n",
              "    }\n",
              "\n",
              "    .dataframe thead th {\n",
              "        text-align: right;\n",
              "    }\n",
              "</style>\n",
              "<table border=\"1\" class=\"dataframe\">\n",
              "  <thead>\n",
              "    <tr style=\"text-align: right;\">\n",
              "      <th></th>\n",
              "      <th>Date</th>\n",
              "      <th>Open</th>\n",
              "      <th>High</th>\n",
              "      <th>Low</th>\n",
              "      <th>Close</th>\n",
              "      <th>Volume</th>\n",
              "    </tr>\n",
              "  </thead>\n",
              "  <tbody>\n",
              "    <tr>\n",
              "      <th>0</th>\n",
              "      <td>1/3/2012</td>\n",
              "      <td>325.25</td>\n",
              "      <td>332.83</td>\n",
              "      <td>324.97</td>\n",
              "      <td>663.59</td>\n",
              "      <td>7,380,500</td>\n",
              "    </tr>\n",
              "    <tr>\n",
              "      <th>1</th>\n",
              "      <td>1/4/2012</td>\n",
              "      <td>331.27</td>\n",
              "      <td>333.87</td>\n",
              "      <td>329.08</td>\n",
              "      <td>666.45</td>\n",
              "      <td>5,749,400</td>\n",
              "    </tr>\n",
              "    <tr>\n",
              "      <th>2</th>\n",
              "      <td>1/5/2012</td>\n",
              "      <td>329.83</td>\n",
              "      <td>330.75</td>\n",
              "      <td>326.89</td>\n",
              "      <td>657.21</td>\n",
              "      <td>6,590,300</td>\n",
              "    </tr>\n",
              "    <tr>\n",
              "      <th>3</th>\n",
              "      <td>1/6/2012</td>\n",
              "      <td>328.34</td>\n",
              "      <td>328.77</td>\n",
              "      <td>323.68</td>\n",
              "      <td>648.24</td>\n",
              "      <td>5,405,900</td>\n",
              "    </tr>\n",
              "    <tr>\n",
              "      <th>4</th>\n",
              "      <td>1/9/2012</td>\n",
              "      <td>322.04</td>\n",
              "      <td>322.29</td>\n",
              "      <td>309.46</td>\n",
              "      <td>620.76</td>\n",
              "      <td>11,688,800</td>\n",
              "    </tr>\n",
              "  </tbody>\n",
              "</table>\n",
              "</div>\n",
              "      <button class=\"colab-df-convert\" onclick=\"convertToInteractive('df-8956fe8b-ed1b-4642-bf9e-08c0c2b1b3ae')\"\n",
              "              title=\"Convert this dataframe to an interactive table.\"\n",
              "              style=\"display:none;\">\n",
              "        \n",
              "  <svg xmlns=\"http://www.w3.org/2000/svg\" height=\"24px\"viewBox=\"0 0 24 24\"\n",
              "       width=\"24px\">\n",
              "    <path d=\"M0 0h24v24H0V0z\" fill=\"none\"/>\n",
              "    <path d=\"M18.56 5.44l.94 2.06.94-2.06 2.06-.94-2.06-.94-.94-2.06-.94 2.06-2.06.94zm-11 1L8.5 8.5l.94-2.06 2.06-.94-2.06-.94L8.5 2.5l-.94 2.06-2.06.94zm10 10l.94 2.06.94-2.06 2.06-.94-2.06-.94-.94-2.06-.94 2.06-2.06.94z\"/><path d=\"M17.41 7.96l-1.37-1.37c-.4-.4-.92-.59-1.43-.59-.52 0-1.04.2-1.43.59L10.3 9.45l-7.72 7.72c-.78.78-.78 2.05 0 2.83L4 21.41c.39.39.9.59 1.41.59.51 0 1.02-.2 1.41-.59l7.78-7.78 2.81-2.81c.8-.78.8-2.07 0-2.86zM5.41 20L4 18.59l7.72-7.72 1.47 1.35L5.41 20z\"/>\n",
              "  </svg>\n",
              "      </button>\n",
              "      \n",
              "  <style>\n",
              "    .colab-df-container {\n",
              "      display:flex;\n",
              "      flex-wrap:wrap;\n",
              "      gap: 12px;\n",
              "    }\n",
              "\n",
              "    .colab-df-convert {\n",
              "      background-color: #E8F0FE;\n",
              "      border: none;\n",
              "      border-radius: 50%;\n",
              "      cursor: pointer;\n",
              "      display: none;\n",
              "      fill: #1967D2;\n",
              "      height: 32px;\n",
              "      padding: 0 0 0 0;\n",
              "      width: 32px;\n",
              "    }\n",
              "\n",
              "    .colab-df-convert:hover {\n",
              "      background-color: #E2EBFA;\n",
              "      box-shadow: 0px 1px 2px rgba(60, 64, 67, 0.3), 0px 1px 3px 1px rgba(60, 64, 67, 0.15);\n",
              "      fill: #174EA6;\n",
              "    }\n",
              "\n",
              "    [theme=dark] .colab-df-convert {\n",
              "      background-color: #3B4455;\n",
              "      fill: #D2E3FC;\n",
              "    }\n",
              "\n",
              "    [theme=dark] .colab-df-convert:hover {\n",
              "      background-color: #434B5C;\n",
              "      box-shadow: 0px 1px 3px 1px rgba(0, 0, 0, 0.15);\n",
              "      filter: drop-shadow(0px 1px 2px rgba(0, 0, 0, 0.3));\n",
              "      fill: #FFFFFF;\n",
              "    }\n",
              "  </style>\n",
              "\n",
              "      <script>\n",
              "        const buttonEl =\n",
              "          document.querySelector('#df-8956fe8b-ed1b-4642-bf9e-08c0c2b1b3ae button.colab-df-convert');\n",
              "        buttonEl.style.display =\n",
              "          google.colab.kernel.accessAllowed ? 'block' : 'none';\n",
              "\n",
              "        async function convertToInteractive(key) {\n",
              "          const element = document.querySelector('#df-8956fe8b-ed1b-4642-bf9e-08c0c2b1b3ae');\n",
              "          const dataTable =\n",
              "            await google.colab.kernel.invokeFunction('convertToInteractive',\n",
              "                                                     [key], {});\n",
              "          if (!dataTable) return;\n",
              "\n",
              "          const docLinkHtml = 'Like what you see? Visit the ' +\n",
              "            '<a target=\"_blank\" href=https://colab.research.google.com/notebooks/data_table.ipynb>data table notebook</a>'\n",
              "            + ' to learn more about interactive tables.';\n",
              "          element.innerHTML = '';\n",
              "          dataTable['output_type'] = 'display_data';\n",
              "          await google.colab.output.renderOutput(dataTable, element);\n",
              "          const docLink = document.createElement('div');\n",
              "          docLink.innerHTML = docLinkHtml;\n",
              "          element.appendChild(docLink);\n",
              "        }\n",
              "      </script>\n",
              "    </div>\n",
              "  </div>\n",
              "  "
            ]
          },
          "metadata": {},
          "execution_count": 5
        }
      ],
      "source": [
        "df_train.head()"
      ]
    },
    {
      "cell_type": "code",
      "execution_count": null,
      "metadata": {
        "id": "eLoTAiUULauY"
      },
      "outputs": [],
      "source": [
        "training_open=df_train.iloc[:,1:2].values\n",
        "sc=MinMaxScaler()\n",
        "training_open=sc.fit_transform(training_open)"
      ]
    },
    {
      "cell_type": "code",
      "execution_count": null,
      "metadata": {
        "colab": {
          "base_uri": "https://localhost:8080/"
        },
        "id": "plm9u87xdiuo",
        "outputId": "10b44bbf-b0dd-490c-cb8b-6560f79274b5"
      },
      "outputs": [
        {
          "output_type": "execute_result",
          "data": {
            "text/plain": [
              "array([[0.08581368],\n",
              "       [0.09701243],\n",
              "       [0.09433366],\n",
              "       [0.09156187],\n",
              "       [0.07984225],\n",
              "       [0.0643277 ],\n",
              "       [0.0585423 ],\n",
              "       [0.06568569],\n",
              "       [0.06109085],\n",
              "       [0.06639259],\n",
              "       [0.0614257 ],\n",
              "       [0.07474514],\n",
              "       [0.02797827],\n",
              "       [0.02379269],\n",
              "       [0.02409033],\n",
              "       [0.0159238 ],\n",
              "       [0.01078949],\n",
              "       [0.00967334],\n",
              "       [0.01642607],\n",
              "       [0.02100231],\n",
              "       [0.02280676],\n",
              "       [0.02273235],\n",
              "       [0.02810849],\n",
              "       [0.03212665],\n",
              "       [0.0433812 ],\n",
              "       [0.04475779],\n",
              "       [0.04790163],\n",
              "       [0.0440695 ],\n",
              "       [0.04648783],\n",
              "       [0.04745517],\n",
              "       [0.04873875],\n",
              "       [0.03936305],\n",
              "       [0.04137213],\n",
              "       [0.04034898],\n",
              "       [0.04784582],\n",
              "       [0.04325099],\n",
              "       [0.04356723],\n",
              "       [0.04286033],\n",
              "       [0.04602277],\n",
              "       [0.05398467],\n",
              "       [0.05738894],\n",
              "       [0.05714711],\n",
              "       [0.05569611],\n",
              "       [0.04421832],\n",
              "       [0.04514845],\n",
              "       [0.04605997],\n",
              "       [0.04412531],\n",
              "       [0.03675869],\n",
              "       [0.04486941],\n",
              "       [0.05065481],\n",
              "       [0.05214302],\n",
              "       [0.05612397],\n",
              "       [0.05818885],\n",
              "       [0.06540665],\n",
              "       [0.06882953],\n",
              "       [0.07243843],\n",
              "       [0.07993526],\n",
              "       [0.07846566],\n",
              "       [0.08034452],\n",
              "       [0.08497656]])"
            ]
          },
          "metadata": {},
          "execution_count": 7
        }
      ],
      "source": [
        "training_open[0:60]"
      ]
    },
    {
      "cell_type": "code",
      "execution_count": null,
      "metadata": {
        "id": "cPqGO0Tkd12N"
      },
      "outputs": [],
      "source": [
        "\n",
        "x_train=[]\n",
        "y_train=[]\n",
        "for i in range(60,training_open.size):\n",
        "\n",
        "\n",
        "  x_train.append(training_open[i-60:i].tolist())\n",
        "  \n",
        "  y_train.append([training_open[i][0]])\n",
        "\n"
      ]
    },
    {
      "cell_type": "code",
      "execution_count": null,
      "metadata": {
        "id": "_GlOU33reGos"
      },
      "outputs": [],
      "source": [
        "y_train=np.array(y_train)\n",
        "x_train=np.array(x_train)"
      ]
    },
    {
      "cell_type": "code",
      "execution_count": null,
      "metadata": {
        "colab": {
          "base_uri": "https://localhost:8080/"
        },
        "id": "1wmaV1g0fhh3",
        "outputId": "f1622e83-dc58-48a1-851c-a385e1719f00"
      },
      "outputs": [
        {
          "output_type": "execute_result",
          "data": {
            "text/plain": [
              "array([[0.08581368],\n",
              "       [0.09701243],\n",
              "       [0.09433366],\n",
              "       [0.09156187],\n",
              "       [0.07984225],\n",
              "       [0.0643277 ],\n",
              "       [0.0585423 ],\n",
              "       [0.06568569],\n",
              "       [0.06109085],\n",
              "       [0.06639259],\n",
              "       [0.0614257 ],\n",
              "       [0.07474514],\n",
              "       [0.02797827],\n",
              "       [0.02379269],\n",
              "       [0.02409033],\n",
              "       [0.0159238 ],\n",
              "       [0.01078949],\n",
              "       [0.00967334],\n",
              "       [0.01642607],\n",
              "       [0.02100231],\n",
              "       [0.02280676],\n",
              "       [0.02273235],\n",
              "       [0.02810849],\n",
              "       [0.03212665],\n",
              "       [0.0433812 ],\n",
              "       [0.04475779],\n",
              "       [0.04790163],\n",
              "       [0.0440695 ],\n",
              "       [0.04648783],\n",
              "       [0.04745517],\n",
              "       [0.04873875],\n",
              "       [0.03936305],\n",
              "       [0.04137213],\n",
              "       [0.04034898],\n",
              "       [0.04784582],\n",
              "       [0.04325099],\n",
              "       [0.04356723],\n",
              "       [0.04286033],\n",
              "       [0.04602277],\n",
              "       [0.05398467],\n",
              "       [0.05738894],\n",
              "       [0.05714711],\n",
              "       [0.05569611],\n",
              "       [0.04421832],\n",
              "       [0.04514845],\n",
              "       [0.04605997],\n",
              "       [0.04412531],\n",
              "       [0.03675869],\n",
              "       [0.04486941],\n",
              "       [0.05065481],\n",
              "       [0.05214302],\n",
              "       [0.05612397],\n",
              "       [0.05818885],\n",
              "       [0.06540665],\n",
              "       [0.06882953],\n",
              "       [0.07243843],\n",
              "       [0.07993526],\n",
              "       [0.07846566],\n",
              "       [0.08034452],\n",
              "       [0.08497656]])"
            ]
          },
          "metadata": {},
          "execution_count": 10
        }
      ],
      "source": [
        "x_train[0]"
      ]
    },
    {
      "cell_type": "code",
      "execution_count": null,
      "metadata": {
        "id": "_MiwaAFjt9Iv"
      },
      "outputs": [],
      "source": [
        "x_train=np.reshape(x_train,(x_train.shape[0],x_train.shape[1],1))"
      ]
    },
    {
      "cell_type": "code",
      "execution_count": null,
      "metadata": {
        "id": "E7wbsI6HuAnx"
      },
      "outputs": [],
      "source": [
        "model=keras.models.Sequential()"
      ]
    },
    {
      "cell_type": "code",
      "execution_count": null,
      "metadata": {
        "id": "IwgU_FtNuI7r"
      },
      "outputs": [],
      "source": [
        "from keras.backend import dropout\n",
        "model.add(keras.layers.InputLayer(input_shape=(60,1)))\n",
        "model.add(keras.layers.LSTM(50,\n",
        "    activation=\"relu\",return_sequences=True,dropout=0.2))\n",
        "model.add(keras.layers.LSTM(50,\n",
        "    activation=\"relu\",return_sequences=True,dropout=0.2))\n",
        "model.add(keras.layers.LSTM(50,\n",
        "    activation=\"relu\",dropout=0.2))\n",
        "model.add(keras.layers.Dense(1,\n",
        "    activation=\"relu\"))"
      ]
    },
    {
      "cell_type": "code",
      "execution_count": null,
      "metadata": {
        "id": "OF88fkCIua3n"
      },
      "outputs": [],
      "source": [
        "model.compile(optimizer=\"adam\",loss=\"MSE\")"
      ]
    },
    {
      "cell_type": "code",
      "execution_count": null,
      "metadata": {
        "colab": {
          "base_uri": "https://localhost:8080/"
        },
        "id": "N2WdxtUsuiX3",
        "outputId": "0f6a2d97-c12c-4e5c-eb7b-1cc9dccceee3"
      },
      "outputs": [
        {
          "output_type": "stream",
          "name": "stdout",
          "text": [
            "Epoch 1/50\n",
            "30/30 [==============================] - 5s 171ms/step - loss: 0.0014 - val_loss: 0.0450\n",
            "Epoch 2/50\n",
            "30/30 [==============================] - 3s 93ms/step - loss: 0.0012 - val_loss: 0.0512\n",
            "Epoch 3/50\n",
            "30/30 [==============================] - 3s 94ms/step - loss: 0.0012 - val_loss: 0.0520\n",
            "Epoch 4/50\n",
            "30/30 [==============================] - 3s 95ms/step - loss: 0.0013 - val_loss: 0.0529\n",
            "Epoch 5/50\n",
            "30/30 [==============================] - 3s 95ms/step - loss: 0.0012 - val_loss: 0.0425\n",
            "Epoch 6/50\n",
            "30/30 [==============================] - 3s 97ms/step - loss: 0.0013 - val_loss: 0.0441\n",
            "Epoch 7/50\n",
            "30/30 [==============================] - 3s 95ms/step - loss: 0.0012 - val_loss: 0.0627\n",
            "Epoch 8/50\n",
            "30/30 [==============================] - 3s 94ms/step - loss: 0.0014 - val_loss: 0.0510\n",
            "Epoch 9/50\n",
            "30/30 [==============================] - 3s 95ms/step - loss: 0.0013 - val_loss: 0.0472\n",
            "Epoch 10/50\n",
            "30/30 [==============================] - 3s 95ms/step - loss: 0.0012 - val_loss: 0.0550\n",
            "Epoch 11/50\n",
            "30/30 [==============================] - 3s 94ms/step - loss: 0.0013 - val_loss: 0.0521\n",
            "Epoch 12/50\n",
            "30/30 [==============================] - 3s 94ms/step - loss: 0.0011 - val_loss: 0.0520\n",
            "Epoch 13/50\n",
            "30/30 [==============================] - 3s 95ms/step - loss: 0.0012 - val_loss: 0.0576\n",
            "Epoch 14/50\n",
            "30/30 [==============================] - 3s 95ms/step - loss: 0.0012 - val_loss: 0.0587\n",
            "Epoch 15/50\n",
            "30/30 [==============================] - 3s 94ms/step - loss: 0.0012 - val_loss: 0.0516\n",
            "Epoch 16/50\n",
            "30/30 [==============================] - 3s 94ms/step - loss: 0.0011 - val_loss: 0.0545\n",
            "Epoch 17/50\n",
            "30/30 [==============================] - 3s 94ms/step - loss: 0.0012 - val_loss: 0.0573\n",
            "Epoch 18/50\n",
            "30/30 [==============================] - 3s 94ms/step - loss: 0.0011 - val_loss: 0.0504\n",
            "Epoch 19/50\n",
            "30/30 [==============================] - 3s 94ms/step - loss: 0.0012 - val_loss: 0.0471\n",
            "Epoch 20/50\n",
            "30/30 [==============================] - 3s 94ms/step - loss: 0.0011 - val_loss: 0.0587\n",
            "Epoch 21/50\n",
            "30/30 [==============================] - 3s 94ms/step - loss: 0.0010 - val_loss: 0.0537\n",
            "Epoch 22/50\n",
            "30/30 [==============================] - 3s 94ms/step - loss: 0.0013 - val_loss: 0.0521\n",
            "Epoch 23/50\n",
            "30/30 [==============================] - 3s 94ms/step - loss: 0.0011 - val_loss: 0.0619\n",
            "Epoch 24/50\n",
            "30/30 [==============================] - 3s 93ms/step - loss: 0.0012 - val_loss: 0.0423\n",
            "Epoch 25/50\n",
            "30/30 [==============================] - 3s 94ms/step - loss: 0.0012 - val_loss: 0.0493\n",
            "Epoch 26/50\n",
            "30/30 [==============================] - 3s 92ms/step - loss: 0.0012 - val_loss: 0.0508\n",
            "Epoch 27/50\n",
            "30/30 [==============================] - 3s 94ms/step - loss: 0.0012 - val_loss: 0.0549\n",
            "Epoch 28/50\n",
            "30/30 [==============================] - 3s 94ms/step - loss: 0.0011 - val_loss: 0.0547\n",
            "Epoch 29/50\n",
            "30/30 [==============================] - 3s 95ms/step - loss: 9.8904e-04 - val_loss: 0.0457\n",
            "Epoch 30/50\n",
            "30/30 [==============================] - 3s 94ms/step - loss: 0.0011 - val_loss: 0.0504\n",
            "Epoch 31/50\n",
            "30/30 [==============================] - 3s 93ms/step - loss: 0.0010 - val_loss: 0.0454\n",
            "Epoch 32/50\n",
            "30/30 [==============================] - 3s 95ms/step - loss: 0.0011 - val_loss: 0.0604\n",
            "Epoch 33/50\n",
            "30/30 [==============================] - 3s 94ms/step - loss: 0.0010 - val_loss: 0.0544\n",
            "Epoch 34/50\n",
            "30/30 [==============================] - 3s 94ms/step - loss: 9.9372e-04 - val_loss: 0.0466\n",
            "Epoch 35/50\n",
            "30/30 [==============================] - 3s 93ms/step - loss: 9.8709e-04 - val_loss: 0.0497\n",
            "Epoch 36/50\n",
            "30/30 [==============================] - 3s 95ms/step - loss: 0.0010 - val_loss: 0.0481\n",
            "Epoch 37/50\n",
            "30/30 [==============================] - 3s 94ms/step - loss: 9.7627e-04 - val_loss: 0.0528\n",
            "Epoch 38/50\n",
            "30/30 [==============================] - 3s 94ms/step - loss: 0.0011 - val_loss: 0.0386\n",
            "Epoch 39/50\n",
            "30/30 [==============================] - 3s 94ms/step - loss: 0.0010 - val_loss: 0.0520\n",
            "Epoch 40/50\n",
            "30/30 [==============================] - 3s 94ms/step - loss: 9.6305e-04 - val_loss: 0.0526\n",
            "Epoch 41/50\n",
            "30/30 [==============================] - 3s 94ms/step - loss: 9.7282e-04 - val_loss: 0.0488\n",
            "Epoch 42/50\n",
            "30/30 [==============================] - 3s 93ms/step - loss: 9.0081e-04 - val_loss: 0.0602\n",
            "Epoch 43/50\n",
            "30/30 [==============================] - 3s 94ms/step - loss: 0.0011 - val_loss: 0.0435\n",
            "Epoch 44/50\n",
            "30/30 [==============================] - 3s 94ms/step - loss: 8.8420e-04 - val_loss: 0.0545\n",
            "Epoch 45/50\n",
            "30/30 [==============================] - 3s 93ms/step - loss: 0.0010 - val_loss: 0.0444\n",
            "Epoch 46/50\n",
            "30/30 [==============================] - 3s 94ms/step - loss: 9.3961e-04 - val_loss: 0.0498\n",
            "Epoch 47/50\n",
            "30/30 [==============================] - 3s 96ms/step - loss: 9.7173e-04 - val_loss: 0.0494\n",
            "Epoch 48/50\n",
            "30/30 [==============================] - 3s 95ms/step - loss: 9.8308e-04 - val_loss: 0.0586\n",
            "Epoch 49/50\n",
            "30/30 [==============================] - 3s 94ms/step - loss: 9.5880e-04 - val_loss: 0.0524\n",
            "Epoch 50/50\n",
            "30/30 [==============================] - 3s 94ms/step - loss: 9.3760e-04 - val_loss: 0.0543\n"
          ]
        },
        {
          "output_type": "execute_result",
          "data": {
            "text/plain": [
              "<keras.callbacks.History at 0x7f8c9b279950>"
            ]
          },
          "metadata": {},
          "execution_count": 46
        }
      ],
      "source": [
        "model.fit(x=x_train,y=y_train,batch_size=32,epochs=50,validation_split=0.2)"
      ]
    },
    {
      "cell_type": "code",
      "execution_count": null,
      "metadata": {
        "id": "n5_deskfF3X7",
        "colab": {
          "base_uri": "https://localhost:8080/",
          "height": 677
        },
        "outputId": "9c42df57-0f5d-4330-8edc-0142a1c98b7c"
      },
      "outputs": [
        {
          "output_type": "execute_result",
          "data": {
            "text/plain": [
              "         Date    Open    High     Low   Close     Volume\n",
              "0    1/3/2017  778.81  789.63  775.80  786.14  1,657,300\n",
              "1    1/4/2017  788.36  791.34  783.16  786.90  1,073,000\n",
              "2    1/5/2017  786.08  794.48  785.02  794.02  1,335,200\n",
              "3    1/6/2017  795.26  807.90  792.20  806.15  1,640,200\n",
              "4    1/9/2017  806.40  809.97  802.83  806.65  1,272,400\n",
              "5   1/10/2017  807.86  809.13  803.51  804.79  1,176,800\n",
              "6   1/11/2017  805.00  808.15  801.37  807.91  1,065,900\n",
              "7   1/12/2017  807.14  807.39  799.17  806.36  1,353,100\n",
              "8   1/13/2017  807.48  811.22  806.69  807.88  1,099,200\n",
              "9   1/17/2017  807.08  807.14  800.37  804.61  1,362,100\n",
              "10  1/18/2017  805.81  806.21  800.99  806.07  1,294,400\n",
              "11  1/19/2017  805.12  809.48  801.80  802.17    919,300\n",
              "12  1/20/2017  806.91  806.91  801.69  805.02  1,670,000\n",
              "13  1/23/2017  807.25  820.87  803.74  819.31  1,963,600\n",
              "14  1/24/2017  822.30  825.90  817.82  823.87  1,474,000\n",
              "15  1/25/2017  829.62  835.77  825.06  835.67  1,494,500\n",
              "16  1/26/2017  837.81  838.00  827.01  832.15  2,973,900\n",
              "17  1/27/2017  834.71  841.95  820.44  823.31  2,965,800\n",
              "18  1/30/2017  814.66  815.84  799.80  802.32  3,246,600\n",
              "19  1/31/2017  796.86  801.25  790.52  796.79  2,160,600"
            ],
            "text/html": [
              "\n",
              "  <div id=\"df-9e07eeb4-8ba9-4a28-a838-53a455597342\">\n",
              "    <div class=\"colab-df-container\">\n",
              "      <div>\n",
              "<style scoped>\n",
              "    .dataframe tbody tr th:only-of-type {\n",
              "        vertical-align: middle;\n",
              "    }\n",
              "\n",
              "    .dataframe tbody tr th {\n",
              "        vertical-align: top;\n",
              "    }\n",
              "\n",
              "    .dataframe thead th {\n",
              "        text-align: right;\n",
              "    }\n",
              "</style>\n",
              "<table border=\"1\" class=\"dataframe\">\n",
              "  <thead>\n",
              "    <tr style=\"text-align: right;\">\n",
              "      <th></th>\n",
              "      <th>Date</th>\n",
              "      <th>Open</th>\n",
              "      <th>High</th>\n",
              "      <th>Low</th>\n",
              "      <th>Close</th>\n",
              "      <th>Volume</th>\n",
              "    </tr>\n",
              "  </thead>\n",
              "  <tbody>\n",
              "    <tr>\n",
              "      <th>0</th>\n",
              "      <td>1/3/2017</td>\n",
              "      <td>778.81</td>\n",
              "      <td>789.63</td>\n",
              "      <td>775.80</td>\n",
              "      <td>786.14</td>\n",
              "      <td>1,657,300</td>\n",
              "    </tr>\n",
              "    <tr>\n",
              "      <th>1</th>\n",
              "      <td>1/4/2017</td>\n",
              "      <td>788.36</td>\n",
              "      <td>791.34</td>\n",
              "      <td>783.16</td>\n",
              "      <td>786.90</td>\n",
              "      <td>1,073,000</td>\n",
              "    </tr>\n",
              "    <tr>\n",
              "      <th>2</th>\n",
              "      <td>1/5/2017</td>\n",
              "      <td>786.08</td>\n",
              "      <td>794.48</td>\n",
              "      <td>785.02</td>\n",
              "      <td>794.02</td>\n",
              "      <td>1,335,200</td>\n",
              "    </tr>\n",
              "    <tr>\n",
              "      <th>3</th>\n",
              "      <td>1/6/2017</td>\n",
              "      <td>795.26</td>\n",
              "      <td>807.90</td>\n",
              "      <td>792.20</td>\n",
              "      <td>806.15</td>\n",
              "      <td>1,640,200</td>\n",
              "    </tr>\n",
              "    <tr>\n",
              "      <th>4</th>\n",
              "      <td>1/9/2017</td>\n",
              "      <td>806.40</td>\n",
              "      <td>809.97</td>\n",
              "      <td>802.83</td>\n",
              "      <td>806.65</td>\n",
              "      <td>1,272,400</td>\n",
              "    </tr>\n",
              "    <tr>\n",
              "      <th>5</th>\n",
              "      <td>1/10/2017</td>\n",
              "      <td>807.86</td>\n",
              "      <td>809.13</td>\n",
              "      <td>803.51</td>\n",
              "      <td>804.79</td>\n",
              "      <td>1,176,800</td>\n",
              "    </tr>\n",
              "    <tr>\n",
              "      <th>6</th>\n",
              "      <td>1/11/2017</td>\n",
              "      <td>805.00</td>\n",
              "      <td>808.15</td>\n",
              "      <td>801.37</td>\n",
              "      <td>807.91</td>\n",
              "      <td>1,065,900</td>\n",
              "    </tr>\n",
              "    <tr>\n",
              "      <th>7</th>\n",
              "      <td>1/12/2017</td>\n",
              "      <td>807.14</td>\n",
              "      <td>807.39</td>\n",
              "      <td>799.17</td>\n",
              "      <td>806.36</td>\n",
              "      <td>1,353,100</td>\n",
              "    </tr>\n",
              "    <tr>\n",
              "      <th>8</th>\n",
              "      <td>1/13/2017</td>\n",
              "      <td>807.48</td>\n",
              "      <td>811.22</td>\n",
              "      <td>806.69</td>\n",
              "      <td>807.88</td>\n",
              "      <td>1,099,200</td>\n",
              "    </tr>\n",
              "    <tr>\n",
              "      <th>9</th>\n",
              "      <td>1/17/2017</td>\n",
              "      <td>807.08</td>\n",
              "      <td>807.14</td>\n",
              "      <td>800.37</td>\n",
              "      <td>804.61</td>\n",
              "      <td>1,362,100</td>\n",
              "    </tr>\n",
              "    <tr>\n",
              "      <th>10</th>\n",
              "      <td>1/18/2017</td>\n",
              "      <td>805.81</td>\n",
              "      <td>806.21</td>\n",
              "      <td>800.99</td>\n",
              "      <td>806.07</td>\n",
              "      <td>1,294,400</td>\n",
              "    </tr>\n",
              "    <tr>\n",
              "      <th>11</th>\n",
              "      <td>1/19/2017</td>\n",
              "      <td>805.12</td>\n",
              "      <td>809.48</td>\n",
              "      <td>801.80</td>\n",
              "      <td>802.17</td>\n",
              "      <td>919,300</td>\n",
              "    </tr>\n",
              "    <tr>\n",
              "      <th>12</th>\n",
              "      <td>1/20/2017</td>\n",
              "      <td>806.91</td>\n",
              "      <td>806.91</td>\n",
              "      <td>801.69</td>\n",
              "      <td>805.02</td>\n",
              "      <td>1,670,000</td>\n",
              "    </tr>\n",
              "    <tr>\n",
              "      <th>13</th>\n",
              "      <td>1/23/2017</td>\n",
              "      <td>807.25</td>\n",
              "      <td>820.87</td>\n",
              "      <td>803.74</td>\n",
              "      <td>819.31</td>\n",
              "      <td>1,963,600</td>\n",
              "    </tr>\n",
              "    <tr>\n",
              "      <th>14</th>\n",
              "      <td>1/24/2017</td>\n",
              "      <td>822.30</td>\n",
              "      <td>825.90</td>\n",
              "      <td>817.82</td>\n",
              "      <td>823.87</td>\n",
              "      <td>1,474,000</td>\n",
              "    </tr>\n",
              "    <tr>\n",
              "      <th>15</th>\n",
              "      <td>1/25/2017</td>\n",
              "      <td>829.62</td>\n",
              "      <td>835.77</td>\n",
              "      <td>825.06</td>\n",
              "      <td>835.67</td>\n",
              "      <td>1,494,500</td>\n",
              "    </tr>\n",
              "    <tr>\n",
              "      <th>16</th>\n",
              "      <td>1/26/2017</td>\n",
              "      <td>837.81</td>\n",
              "      <td>838.00</td>\n",
              "      <td>827.01</td>\n",
              "      <td>832.15</td>\n",
              "      <td>2,973,900</td>\n",
              "    </tr>\n",
              "    <tr>\n",
              "      <th>17</th>\n",
              "      <td>1/27/2017</td>\n",
              "      <td>834.71</td>\n",
              "      <td>841.95</td>\n",
              "      <td>820.44</td>\n",
              "      <td>823.31</td>\n",
              "      <td>2,965,800</td>\n",
              "    </tr>\n",
              "    <tr>\n",
              "      <th>18</th>\n",
              "      <td>1/30/2017</td>\n",
              "      <td>814.66</td>\n",
              "      <td>815.84</td>\n",
              "      <td>799.80</td>\n",
              "      <td>802.32</td>\n",
              "      <td>3,246,600</td>\n",
              "    </tr>\n",
              "    <tr>\n",
              "      <th>19</th>\n",
              "      <td>1/31/2017</td>\n",
              "      <td>796.86</td>\n",
              "      <td>801.25</td>\n",
              "      <td>790.52</td>\n",
              "      <td>796.79</td>\n",
              "      <td>2,160,600</td>\n",
              "    </tr>\n",
              "  </tbody>\n",
              "</table>\n",
              "</div>\n",
              "      <button class=\"colab-df-convert\" onclick=\"convertToInteractive('df-9e07eeb4-8ba9-4a28-a838-53a455597342')\"\n",
              "              title=\"Convert this dataframe to an interactive table.\"\n",
              "              style=\"display:none;\">\n",
              "        \n",
              "  <svg xmlns=\"http://www.w3.org/2000/svg\" height=\"24px\"viewBox=\"0 0 24 24\"\n",
              "       width=\"24px\">\n",
              "    <path d=\"M0 0h24v24H0V0z\" fill=\"none\"/>\n",
              "    <path d=\"M18.56 5.44l.94 2.06.94-2.06 2.06-.94-2.06-.94-.94-2.06-.94 2.06-2.06.94zm-11 1L8.5 8.5l.94-2.06 2.06-.94-2.06-.94L8.5 2.5l-.94 2.06-2.06.94zm10 10l.94 2.06.94-2.06 2.06-.94-2.06-.94-.94-2.06-.94 2.06-2.06.94z\"/><path d=\"M17.41 7.96l-1.37-1.37c-.4-.4-.92-.59-1.43-.59-.52 0-1.04.2-1.43.59L10.3 9.45l-7.72 7.72c-.78.78-.78 2.05 0 2.83L4 21.41c.39.39.9.59 1.41.59.51 0 1.02-.2 1.41-.59l7.78-7.78 2.81-2.81c.8-.78.8-2.07 0-2.86zM5.41 20L4 18.59l7.72-7.72 1.47 1.35L5.41 20z\"/>\n",
              "  </svg>\n",
              "      </button>\n",
              "      \n",
              "  <style>\n",
              "    .colab-df-container {\n",
              "      display:flex;\n",
              "      flex-wrap:wrap;\n",
              "      gap: 12px;\n",
              "    }\n",
              "\n",
              "    .colab-df-convert {\n",
              "      background-color: #E8F0FE;\n",
              "      border: none;\n",
              "      border-radius: 50%;\n",
              "      cursor: pointer;\n",
              "      display: none;\n",
              "      fill: #1967D2;\n",
              "      height: 32px;\n",
              "      padding: 0 0 0 0;\n",
              "      width: 32px;\n",
              "    }\n",
              "\n",
              "    .colab-df-convert:hover {\n",
              "      background-color: #E2EBFA;\n",
              "      box-shadow: 0px 1px 2px rgba(60, 64, 67, 0.3), 0px 1px 3px 1px rgba(60, 64, 67, 0.15);\n",
              "      fill: #174EA6;\n",
              "    }\n",
              "\n",
              "    [theme=dark] .colab-df-convert {\n",
              "      background-color: #3B4455;\n",
              "      fill: #D2E3FC;\n",
              "    }\n",
              "\n",
              "    [theme=dark] .colab-df-convert:hover {\n",
              "      background-color: #434B5C;\n",
              "      box-shadow: 0px 1px 3px 1px rgba(0, 0, 0, 0.15);\n",
              "      filter: drop-shadow(0px 1px 2px rgba(0, 0, 0, 0.3));\n",
              "      fill: #FFFFFF;\n",
              "    }\n",
              "  </style>\n",
              "\n",
              "      <script>\n",
              "        const buttonEl =\n",
              "          document.querySelector('#df-9e07eeb4-8ba9-4a28-a838-53a455597342 button.colab-df-convert');\n",
              "        buttonEl.style.display =\n",
              "          google.colab.kernel.accessAllowed ? 'block' : 'none';\n",
              "\n",
              "        async function convertToInteractive(key) {\n",
              "          const element = document.querySelector('#df-9e07eeb4-8ba9-4a28-a838-53a455597342');\n",
              "          const dataTable =\n",
              "            await google.colab.kernel.invokeFunction('convertToInteractive',\n",
              "                                                     [key], {});\n",
              "          if (!dataTable) return;\n",
              "\n",
              "          const docLinkHtml = 'Like what you see? Visit the ' +\n",
              "            '<a target=\"_blank\" href=https://colab.research.google.com/notebooks/data_table.ipynb>data table notebook</a>'\n",
              "            + ' to learn more about interactive tables.';\n",
              "          element.innerHTML = '';\n",
              "          dataTable['output_type'] = 'display_data';\n",
              "          await google.colab.output.renderOutput(dataTable, element);\n",
              "          const docLink = document.createElement('div');\n",
              "          docLink.innerHTML = docLinkHtml;\n",
              "          element.appendChild(docLink);\n",
              "        }\n",
              "      </script>\n",
              "    </div>\n",
              "  </div>\n",
              "  "
            ]
          },
          "metadata": {},
          "execution_count": 16
        }
      ],
      "source": [
        "df_test"
      ]
    },
    {
      "cell_type": "code",
      "source": [
        "test_set=df_test.iloc[:,1:2].values"
      ],
      "metadata": {
        "id": "Y0PPCAnwLtp9"
      },
      "execution_count": null,
      "outputs": []
    },
    {
      "cell_type": "code",
      "source": [
        "df_train.tail()"
      ],
      "metadata": {
        "colab": {
          "base_uri": "https://localhost:8080/",
          "height": 206
        },
        "id": "VLPt80s3Wjim",
        "outputId": "35114277-373d-4c4f-801c-b223ed8d8c1f"
      },
      "execution_count": null,
      "outputs": [
        {
          "output_type": "execute_result",
          "data": {
            "text/plain": [
              "            Date    Open    High     Low   Close     Volume\n",
              "1253  12/23/2016  790.90  792.74  787.28  789.91    623,400\n",
              "1254  12/27/2016  790.68  797.86  787.66  791.55    789,100\n",
              "1255  12/28/2016  793.70  794.23  783.20  785.05  1,153,800\n",
              "1256  12/29/2016  783.33  785.93  778.92  782.79    744,300\n",
              "1257  12/30/2016  782.75  782.78  770.41  771.82  1,770,000"
            ],
            "text/html": [
              "\n",
              "  <div id=\"df-f1f8d255-1ba7-4896-94cc-3edfd9b01c9b\">\n",
              "    <div class=\"colab-df-container\">\n",
              "      <div>\n",
              "<style scoped>\n",
              "    .dataframe tbody tr th:only-of-type {\n",
              "        vertical-align: middle;\n",
              "    }\n",
              "\n",
              "    .dataframe tbody tr th {\n",
              "        vertical-align: top;\n",
              "    }\n",
              "\n",
              "    .dataframe thead th {\n",
              "        text-align: right;\n",
              "    }\n",
              "</style>\n",
              "<table border=\"1\" class=\"dataframe\">\n",
              "  <thead>\n",
              "    <tr style=\"text-align: right;\">\n",
              "      <th></th>\n",
              "      <th>Date</th>\n",
              "      <th>Open</th>\n",
              "      <th>High</th>\n",
              "      <th>Low</th>\n",
              "      <th>Close</th>\n",
              "      <th>Volume</th>\n",
              "    </tr>\n",
              "  </thead>\n",
              "  <tbody>\n",
              "    <tr>\n",
              "      <th>1253</th>\n",
              "      <td>12/23/2016</td>\n",
              "      <td>790.90</td>\n",
              "      <td>792.74</td>\n",
              "      <td>787.28</td>\n",
              "      <td>789.91</td>\n",
              "      <td>623,400</td>\n",
              "    </tr>\n",
              "    <tr>\n",
              "      <th>1254</th>\n",
              "      <td>12/27/2016</td>\n",
              "      <td>790.68</td>\n",
              "      <td>797.86</td>\n",
              "      <td>787.66</td>\n",
              "      <td>791.55</td>\n",
              "      <td>789,100</td>\n",
              "    </tr>\n",
              "    <tr>\n",
              "      <th>1255</th>\n",
              "      <td>12/28/2016</td>\n",
              "      <td>793.70</td>\n",
              "      <td>794.23</td>\n",
              "      <td>783.20</td>\n",
              "      <td>785.05</td>\n",
              "      <td>1,153,800</td>\n",
              "    </tr>\n",
              "    <tr>\n",
              "      <th>1256</th>\n",
              "      <td>12/29/2016</td>\n",
              "      <td>783.33</td>\n",
              "      <td>785.93</td>\n",
              "      <td>778.92</td>\n",
              "      <td>782.79</td>\n",
              "      <td>744,300</td>\n",
              "    </tr>\n",
              "    <tr>\n",
              "      <th>1257</th>\n",
              "      <td>12/30/2016</td>\n",
              "      <td>782.75</td>\n",
              "      <td>782.78</td>\n",
              "      <td>770.41</td>\n",
              "      <td>771.82</td>\n",
              "      <td>1,770,000</td>\n",
              "    </tr>\n",
              "  </tbody>\n",
              "</table>\n",
              "</div>\n",
              "      <button class=\"colab-df-convert\" onclick=\"convertToInteractive('df-f1f8d255-1ba7-4896-94cc-3edfd9b01c9b')\"\n",
              "              title=\"Convert this dataframe to an interactive table.\"\n",
              "              style=\"display:none;\">\n",
              "        \n",
              "  <svg xmlns=\"http://www.w3.org/2000/svg\" height=\"24px\"viewBox=\"0 0 24 24\"\n",
              "       width=\"24px\">\n",
              "    <path d=\"M0 0h24v24H0V0z\" fill=\"none\"/>\n",
              "    <path d=\"M18.56 5.44l.94 2.06.94-2.06 2.06-.94-2.06-.94-.94-2.06-.94 2.06-2.06.94zm-11 1L8.5 8.5l.94-2.06 2.06-.94-2.06-.94L8.5 2.5l-.94 2.06-2.06.94zm10 10l.94 2.06.94-2.06 2.06-.94-2.06-.94-.94-2.06-.94 2.06-2.06.94z\"/><path d=\"M17.41 7.96l-1.37-1.37c-.4-.4-.92-.59-1.43-.59-.52 0-1.04.2-1.43.59L10.3 9.45l-7.72 7.72c-.78.78-.78 2.05 0 2.83L4 21.41c.39.39.9.59 1.41.59.51 0 1.02-.2 1.41-.59l7.78-7.78 2.81-2.81c.8-.78.8-2.07 0-2.86zM5.41 20L4 18.59l7.72-7.72 1.47 1.35L5.41 20z\"/>\n",
              "  </svg>\n",
              "      </button>\n",
              "      \n",
              "  <style>\n",
              "    .colab-df-container {\n",
              "      display:flex;\n",
              "      flex-wrap:wrap;\n",
              "      gap: 12px;\n",
              "    }\n",
              "\n",
              "    .colab-df-convert {\n",
              "      background-color: #E8F0FE;\n",
              "      border: none;\n",
              "      border-radius: 50%;\n",
              "      cursor: pointer;\n",
              "      display: none;\n",
              "      fill: #1967D2;\n",
              "      height: 32px;\n",
              "      padding: 0 0 0 0;\n",
              "      width: 32px;\n",
              "    }\n",
              "\n",
              "    .colab-df-convert:hover {\n",
              "      background-color: #E2EBFA;\n",
              "      box-shadow: 0px 1px 2px rgba(60, 64, 67, 0.3), 0px 1px 3px 1px rgba(60, 64, 67, 0.15);\n",
              "      fill: #174EA6;\n",
              "    }\n",
              "\n",
              "    [theme=dark] .colab-df-convert {\n",
              "      background-color: #3B4455;\n",
              "      fill: #D2E3FC;\n",
              "    }\n",
              "\n",
              "    [theme=dark] .colab-df-convert:hover {\n",
              "      background-color: #434B5C;\n",
              "      box-shadow: 0px 1px 3px 1px rgba(0, 0, 0, 0.15);\n",
              "      filter: drop-shadow(0px 1px 2px rgba(0, 0, 0, 0.3));\n",
              "      fill: #FFFFFF;\n",
              "    }\n",
              "  </style>\n",
              "\n",
              "      <script>\n",
              "        const buttonEl =\n",
              "          document.querySelector('#df-f1f8d255-1ba7-4896-94cc-3edfd9b01c9b button.colab-df-convert');\n",
              "        buttonEl.style.display =\n",
              "          google.colab.kernel.accessAllowed ? 'block' : 'none';\n",
              "\n",
              "        async function convertToInteractive(key) {\n",
              "          const element = document.querySelector('#df-f1f8d255-1ba7-4896-94cc-3edfd9b01c9b');\n",
              "          const dataTable =\n",
              "            await google.colab.kernel.invokeFunction('convertToInteractive',\n",
              "                                                     [key], {});\n",
              "          if (!dataTable) return;\n",
              "\n",
              "          const docLinkHtml = 'Like what you see? Visit the ' +\n",
              "            '<a target=\"_blank\" href=https://colab.research.google.com/notebooks/data_table.ipynb>data table notebook</a>'\n",
              "            + ' to learn more about interactive tables.';\n",
              "          element.innerHTML = '';\n",
              "          dataTable['output_type'] = 'display_data';\n",
              "          await google.colab.output.renderOutput(dataTable, element);\n",
              "          const docLink = document.createElement('div');\n",
              "          docLink.innerHTML = docLinkHtml;\n",
              "          element.appendChild(docLink);\n",
              "        }\n",
              "      </script>\n",
              "    </div>\n",
              "  </div>\n",
              "  "
            ]
          },
          "metadata": {},
          "execution_count": 48
        }
      ]
    },
    {
      "cell_type": "code",
      "source": [
        "last_60_data=x_train[-1]"
      ],
      "metadata": {
        "id": "welAGp6LWmFp"
      },
      "execution_count": null,
      "outputs": []
    },
    {
      "cell_type": "code",
      "source": [
        "last_60_data=last_60_data.reshape((1,60,1))"
      ],
      "metadata": {
        "id": "J4WA-xSXXBvQ"
      },
      "execution_count": null,
      "outputs": []
    },
    {
      "cell_type": "code",
      "source": [
        "last_60_data.shape"
      ],
      "metadata": {
        "colab": {
          "base_uri": "https://localhost:8080/"
        },
        "id": "vk4lLJI8XDZV",
        "outputId": "57c794cb-e159-485d-f4d8-49200c7b975e"
      },
      "execution_count": null,
      "outputs": [
        {
          "output_type": "execute_result",
          "data": {
            "text/plain": [
              "(1, 60, 1)"
            ]
          },
          "metadata": {},
          "execution_count": 51
        }
      ]
    },
    {
      "cell_type": "code",
      "source": [
        "model.predict(last_60_data)"
      ],
      "metadata": {
        "colab": {
          "base_uri": "https://localhost:8080/"
        },
        "id": "09DmQPY1YI2T",
        "outputId": "5332f9dd-e1c5-4748-97cb-8e90701062f9"
      },
      "execution_count": null,
      "outputs": [
        {
          "output_type": "execute_result",
          "data": {
            "text/plain": [
              "array([[0.6982653]], dtype=float32)"
            ]
          },
          "metadata": {},
          "execution_count": 52
        }
      ]
    },
    {
      "cell_type": "code",
      "source": [
        "# np.append(np.array(last_60_data[0,1:61]),model.predict(last_60_data),axis=0)\n",
        "last_60_data"
      ],
      "metadata": {
        "colab": {
          "base_uri": "https://localhost:8080/"
        },
        "id": "60iDBNHyYO02",
        "outputId": "b11ffe21-9efb-4a09-f744-3fa645a9fbd0"
      },
      "execution_count": null,
      "outputs": [
        {
          "output_type": "execute_result",
          "data": {
            "text/plain": [
              "array([[[0.93048218],\n",
              "        [0.9299055 ],\n",
              "        [0.93113327],\n",
              "        [0.92750577],\n",
              "        [0.94415507],\n",
              "        [0.93876032],\n",
              "        [0.93403527],\n",
              "        [0.93483518],\n",
              "        [0.9313937 ],\n",
              "        [0.94636878],\n",
              "        [0.96569685],\n",
              "        [0.97510976],\n",
              "        [0.95966962],\n",
              "        [0.97808617],\n",
              "        [1.        ],\n",
              "        [0.98076494],\n",
              "        [0.97083116],\n",
              "        [0.98450406],\n",
              "        [0.96054394],\n",
              "        [0.9371419 ],\n",
              "        [0.92841729],\n",
              "        [0.90804747],\n",
              "        [0.8771858 ],\n",
              "        [0.92153434],\n",
              "        [0.93809063],\n",
              "        [0.93165414],\n",
              "        [0.95254483],\n",
              "        [0.88812412],\n",
              "        [0.88637547],\n",
              "        [0.87032145],\n",
              "        [0.88563137],\n",
              "        [0.90743359],\n",
              "        [0.91571173],\n",
              "        [0.89941588],\n",
              "        [0.91805566],\n",
              "        [0.9089404 ],\n",
              "        [0.9024853 ],\n",
              "        [0.89456061],\n",
              "        [0.91600938],\n",
              "        [0.9132934 ],\n",
              "        [0.88979835],\n",
              "        [0.86589404],\n",
              "        [0.89030062],\n",
              "        [0.90335962],\n",
              "        [0.89642086],\n",
              "        [0.91777662],\n",
              "        [0.93176576],\n",
              "        [0.94114145],\n",
              "        [0.95762334],\n",
              "        [0.96413424],\n",
              "        [0.96402262],\n",
              "        [0.96971501],\n",
              "        [0.95077759],\n",
              "        [0.96294367],\n",
              "        [0.96123223],\n",
              "        [0.95475854],\n",
              "        [0.95204256],\n",
              "        [0.95163331],\n",
              "        [0.95725128],\n",
              "        [0.93796041]]])"
            ]
          },
          "metadata": {},
          "execution_count": 53
        }
      ]
    },
    {
      "cell_type": "code",
      "source": [
        "for i in range(3):\n",
        "  last_60_data=np.append(np.array(last_60_data[0,1:61]),model.predict(last_60_data),axis=0)\n",
        "  last_60_data=last_60_data.reshape((1,60,1))\n"
      ],
      "metadata": {
        "id": "D_zQxPRyYgju"
      },
      "execution_count": null,
      "outputs": []
    },
    {
      "cell_type": "code",
      "source": [
        "for i in range(20):\n",
        "  last_60_data=np.append(np.array(last_60_data[0,1:61]),model.predict(last_60_data),axis=0)\n",
        "  last_60_data=last_60_data.reshape((1,60,1))"
      ],
      "metadata": {
        "id": "wMVh5HtZZFvT"
      },
      "execution_count": null,
      "outputs": []
    },
    {
      "cell_type": "code",
      "source": [
        "last_60_data[0,40:60].size\n",
        "last_60_data=sc.inverse_transform(last_60_data.reshape(60,1))"
      ],
      "metadata": {
        "id": "JtluZ-ZYxbBu"
      },
      "execution_count": null,
      "outputs": []
    },
    {
      "cell_type": "code",
      "source": [
        "print(last_60_data[40:60])\n",
        "from matplotlib import pyplot"
      ],
      "metadata": {
        "colab": {
          "base_uri": "https://localhost:8080/"
        },
        "id": "E3mfIX0lxrHn",
        "outputId": "8349f4fb-222d-424d-c3b8-1c49ea501b2f"
      },
      "execution_count": null,
      "outputs": [
        {
          "output_type": "stream",
          "name": "stdout",
          "text": [
            "[[637.70532775]\n",
            " [629.54478691]\n",
            " [620.75531185]\n",
            " [611.61309661]\n",
            " [602.33310477]\n",
            " [593.11065869]\n",
            " [584.30817495]\n",
            " [575.85750219]\n",
            " [567.69891586]\n",
            " [559.78816722]\n",
            " [552.09574645]\n",
            " [544.60427127]\n",
            " [537.30441772]\n",
            " [530.19029026]\n",
            " [523.27010741]\n",
            " [516.55692591]\n",
            " [510.04803829]\n",
            " [503.73223017]\n",
            " [497.62148492]\n",
            " [491.70761605]]\n"
          ]
        }
      ]
    },
    {
      "cell_type": "code",
      "source": [
        "ep=[]\n",
        "for i in range(1,21):\n",
        "  ep.append(i)\n",
        "pyplot.plot(ep,last_60_data[40:60],'b',label=\"predict price\")\n",
        "pyplot.plot(ep,test_set,'g',label=\"actual\")"
      ],
      "metadata": {
        "colab": {
          "base_uri": "https://localhost:8080/",
          "height": 284
        },
        "id": "xrBJ9kUWyVf5",
        "outputId": "03669359-1b34-4c54-99fc-941194c26900"
      },
      "execution_count": null,
      "outputs": [
        {
          "output_type": "execute_result",
          "data": {
            "text/plain": [
              "[<matplotlib.lines.Line2D at 0x7f8c9b04d3d0>]"
            ]
          },
          "metadata": {},
          "execution_count": 60
        },
        {
          "output_type": "display_data",
          "data": {
            "text/plain": [
              "<Figure size 432x288 with 1 Axes>"
            ],
            "image/png": "[encoded data removed]"
          },
          "metadata": {
            "needs_background": "light"
          }
        }
      ]
    },
    {
      "cell_type": "code",
      "source": [
        ""
      ],
      "metadata": {
        "id": "VeF8jzJ5y1nK"
      },
      "execution_count": null,
      "outputs": []
    }
  ],
  "metadata": {
    "colab": {
      "collapsed_sections": [],
      "name": "google_stock_price.ipynb",
      "provenance": []
    },
    "kernelspec": {
      "display_name": "Python 3",
      "name": "python3"
    },
    "language_info": {
      "name": "python"
    }
  },
  "nbformat": 4,
  "nbformat_minor": 0
}